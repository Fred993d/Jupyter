{
 "cells": [
  {
   "cell_type": "markdown",
   "metadata": {},
   "source": [
    "# Python - Jupyter\n",
    "## Frederik Jahns\n",
    "### 26-03-2019\n",
    "#### Programmering"
   ]
  },
  {
   "cell_type": "markdown",
   "metadata": {},
   "source": [
    "test:"
   ]
  },
  {
   "cell_type": "code",
   "execution_count": 6,
   "metadata": {},
   "outputs": [
    {
     "data": {
      "text/plain": [
       "7"
      ]
     },
     "execution_count": 6,
     "metadata": {},
     "output_type": "execute_result"
    }
   ],
   "source": [
    "a = 3\n",
    "b = 4\n",
    "a + b"
   ]
  },
  {
   "cell_type": "code",
   "execution_count": 7,
   "metadata": {},
   "outputs": [
    {
     "name": "stdout",
     "output_type": "stream",
     "text": [
      "7\n"
     ]
    }
   ],
   "source": [
    "print(a + b)"
   ]
  },
  {
   "cell_type": "markdown",
   "metadata": {},
   "source": [
    "## Variabler\n",
    "variabler er beholdere der indeholder forskellige former for data(informationer / bider af informationer)."
   ]
  },
  {
   "cell_type": "code",
   "execution_count": 9,
   "metadata": {},
   "outputs": [],
   "source": [
    "# Havelåge er kommentare og vil ikke blive kørt, svarer til // i JavaScripts. der er ingen block comments, så det er # per linje\n",
    "\n",
    "# Variabler i Python:\n",
    "# Variabler er kønsløse\n",
    "# indtegner altså heltal\n",
    "etNavn = 2\n",
    "\n",
    "# Pas på, man kan ændre det uden advarsler\n",
    "etNavn = 2.2\n",
    "\n",
    "en_int = 2\n",
    "en_float = 3.5\n",
    "en_string = \"Hej\"\n",
    "en_bool = False\n",
    "\n",
    "# Typecasting findes også i Python\n",
    "en_float = int(3.5)"
   ]
  },
  {
   "cell_type": "code",
   "execution_count": 10,
   "metadata": {},
   "outputs": [
    {
     "name": "stdout",
     "output_type": "stream",
     "text": [
      "2.2\n",
      "2\n",
      "3\n",
      "Hej\n",
      "False\n"
     ]
    }
   ],
   "source": [
    "# \"Alt det her er jo meget godt, men vi kan ikke se en skid\" - Jeppe\n",
    "# for at printe resultater osv bruger vi print\n",
    "\n",
    "print(etNavn)\n",
    "print(en_int)\n",
    "print(en_float)\n",
    "print(en_string)\n",
    "print(en_bool)"
   ]
  },
  {
   "cell_type": "code",
   "execution_count": 11,
   "metadata": {},
   "outputs": [
    {
     "name": "stdout",
     "output_type": "stream",
     "text": [
      "<class 'int'>\n"
     ]
    }
   ],
   "source": [
    "# For at  checke hvad vores variabler indeholder kan vi bruge funktionen Type.\n",
    "print(type(en_int))"
   ]
  },
  {
   "cell_type": "code",
   "execution_count": 12,
   "metadata": {},
   "outputs": [
    {
     "name": "stdout",
     "output_type": "stream",
     "text": [
      "Hvor gammel er det lige Roland er?17\n"
     ]
    }
   ],
   "source": [
    "# Der findes en funktion der gør det rigtig nemt at få data ind der kaldes input().\n",
    "\n",
    "a = input(\"Hvor gammel er det lige Roland er?\")"
   ]
  },
  {
   "cell_type": "code",
   "execution_count": 13,
   "metadata": {},
   "outputs": [
    {
     "name": "stdout",
     "output_type": "stream",
     "text": [
      "17\n"
     ]
    }
   ],
   "source": [
    "print(a)"
   ]
  },
  {
   "cell_type": "markdown",
   "metadata": {},
   "source": [
    "### Opgave\n",
    "brug jeres viden om variabler og lav en likke lommeregner der kan plus, minus, gange og dividere.\n",
    "\n",
    "Brug f.eks. input() til at indtaste forskellige tal.\n",
    "\n",
    "Hint husk at bruge type() hvis det driller."
   ]
  },
  {
   "cell_type": "markdown",
   "metadata": {},
   "source": [
    "## indtast dine tal i a og b"
   ]
  },
  {
   "cell_type": "code",
   "execution_count": 27,
   "metadata": {},
   "outputs": [
    {
     "name": "stdout",
     "output_type": "stream",
     "text": [
      "plus: 11\n",
      "minus: -7\n",
      "gange: 18\n",
      "dividere 0.2222222222222222\n"
     ]
    }
   ],
   "source": [
    "a = 2\n",
    "b = 9\n",
    "\n",
    "plus = a + b\n",
    "minus = a - b\n",
    "gange = a * b\n",
    "dividere = a / b\n",
    "\n",
    "print(\"plus:\", plus)\n",
    "\n",
    "print(\"minus:\", minus)\n",
    "\n",
    "print(\"gange:\", gange)\n",
    "\n",
    "print(\"dividere\", dividere)\n"
   ]
  },
  {
   "cell_type": "code",
   "execution_count": 31,
   "metadata": {},
   "outputs": [
    {
     "name": "stdout",
     "output_type": "stream",
     "text": [
      "Nej\n"
     ]
    }
   ],
   "source": [
    "# Scope er noget anderledes i Python end i adnre sprog, der bruges ikke {}\n",
    "\n",
    "if a > b:\n",
    "    print(\"Hej\")\n",
    "    #det her er med\n",
    "#det her er ikke med\n",
    "elif a == b:\n",
    "    print(\"Måske!\")\n",
    "else:\n",
    "    print(\"Nej\")"
   ]
  },
  {
   "cell_type": "code",
   "execution_count": null,
   "metadata": {},
   "outputs": [],
   "source": [
    "# Funktioner"
   ]
  },
  {
   "cell_type": "code",
   "execution_count": 33,
   "metadata": {},
   "outputs": [],
   "source": [
    "def lommeregner():\n",
    "    pass\n",
    "#der skal stå pass hvis en funktion eller statement skal være der , men ikke gøre noget. Hvis der ikke skrives noget får man en fejl"
   ]
  },
  {
   "cell_type": "code",
   "execution_count": 37,
   "metadata": {},
   "outputs": [
    {
     "name": "stdout",
     "output_type": "stream",
     "text": [
      "10\n",
      "4\n",
      "21\n",
      "2.3333333333333335\n"
     ]
    }
   ],
   "source": [
    "def lommeregner(a, b):\n",
    "    print(a + b)\n",
    "    print(a - b)\n",
    "    print(a * b)\n",
    "    print(a / b)\n",
    "# jeg kan nu skrive et tilfældigt tal i både \"a\" og \"b\" værdierne i lommeregneren.\n",
    "lommeregner(7, 3)"
   ]
  },
  {
   "cell_type": "code",
   "execution_count": 1,
   "metadata": {},
   "outputs": [],
   "source": [
    "def smart_calc():\n",
    "    a = int(input(\"Første tal: \"))\n",
    "    b = int(input(\"Andet tal: \"))\n",
    "    operation = input(\"+, -, *, /: \")\n",
    "\n",
    "    if operation == \"+\":\n",
    "        print(a + b)\n",
    "    elif operation == \"-\":\n",
    "        print(a - b)\n",
    "    elif operation == \"*\":\n",
    "        print(a * b)\n",
    "    elif operation == \"/\":\n",
    "        print(a / b)\n",
    "    else:\n",
    "        print(\"har du pølsefingre?\")\n",
    "    smart_calc()\n"
   ]
  },
  {
   "cell_type": "code",
   "execution_count": null,
   "metadata": {},
   "outputs": [
    {
     "name": "stdout",
     "output_type": "stream",
     "text": [
      "Første tal: 4\n",
      "Andet tal: 75\n",
      "+, -, *, /: /\n",
      "0.05333333333333334\n"
     ]
    }
   ],
   "source": [
    "smart_calc()"
   ]
  },
  {
   "cell_type": "code",
   "execution_count": null,
   "metadata": {},
   "outputs": [],
   "source": []
  },
  {
   "cell_type": "code",
   "execution_count": null,
   "metadata": {},
   "outputs": [],
   "source": []
  }
 ],
 "metadata": {
  "kernelspec": {
   "display_name": "Python 3",
   "language": "python",
   "name": "python3"
  },
  "language_info": {
   "codemirror_mode": {
    "name": "ipython",
    "version": 3
   },
   "file_extension": ".py",
   "mimetype": "text/x-python",
   "name": "python",
   "nbconvert_exporter": "python",
   "pygments_lexer": "ipython3",
   "version": "3.7.1"
  }
 },
 "nbformat": 4,
 "nbformat_minor": 2
}
